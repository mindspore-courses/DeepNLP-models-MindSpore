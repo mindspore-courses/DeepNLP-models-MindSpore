{
 "cells": [
  {
   "attachments": {},
   "cell_type": "markdown",
   "metadata": {},
   "source": [
    "# 10. \tDynamic Memory Networks for Question Answering"
   ]
  },
  {
   "attachments": {},
   "cell_type": "markdown",
   "metadata": {},
   "source": [
    "I recommend you take a look at these material first."
   ]
  },
  {
   "attachments": {},
   "cell_type": "markdown",
   "metadata": {},
   "source": [
    "* http://web.stanford.edu/class/cs224n/lectures/cs224n-2017-lecture16-DMN-QA.pdf\n",
    "* https://arxiv.org/abs/1506.07285"
   ]
  },
  {
   "cell_type": "code",
   "execution_count": 1,
   "metadata": {},
   "outputs": [
    {
     "name": "stderr",
     "output_type": "stream",
     "text": [
      "[WARNING] ME(1145720:140704576583488,MainProcess):2023-07-09-22:33:35.864.973 [mindspore/run_check/_check_version.py:102] MindSpore version 2.0.0.20230623 and cuda version 11.7.60 does not match, CUDA version [['10.1', '11.1', '11.6']] are supported by MindSpore officially. Please refer to the installation guide for version matching information: https://www.mindspore.cn/install.\n",
      "/home/daiyuxin/anaconda3/envs/cjh1/lib/python3.7/site-packages/mindnlp/utils/download.py:29: TqdmExperimentalWarning: Using `tqdm.autonotebook.tqdm` in notebook mode. Use `tqdm.tqdm` instead to force console mode (e.g. in jupyter console)\n",
      "  from tqdm.autonotebook import tqdm\n"
     ]
    }
   ],
   "source": [
    "import mindspore\n",
    "from mindspore import nn, Tensor, ops, Parameter\n",
    "import random\n",
    "import numpy as np\n",
    "from copy import deepcopy\n",
    "import os\n",
    "from mindnlp.modules import Accumulator\n",
    "from mindspore.common.initializer import initializer\n",
    "flatten = lambda l: [item for sublist in l for item in sublist]\n",
    "random.seed(1024)"
   ]
  },
  {
   "cell_type": "code",
   "execution_count": 2,
   "metadata": {},
   "outputs": [],
   "source": [
    "gpu = '0'\n",
    "# 设置使用哪些显卡进行训练\n",
    "os.environ[\"CUDA_VISIBLE_DEVICES\"] = gpu"
   ]
  },
  {
   "cell_type": "code",
   "execution_count": 3,
   "metadata": {},
   "outputs": [],
   "source": [
    "def getBatch(batch_size, train_data):\n",
    "    random.shuffle(train_data)\n",
    "    sindex = 0\n",
    "    eindex = batch_size\n",
    "    while eindex < len(train_data):\n",
    "        batch = train_data[sindex: eindex]\n",
    "        temp = eindex\n",
    "        eindex = eindex + batch_size\n",
    "        sindex = temp\n",
    "        yield batch\n",
    "\n",
    "    if eindex >= len(train_data):\n",
    "        batch = train_data[sindex:]\n",
    "        yield batch"
   ]
  },
  {
   "cell_type": "code",
   "execution_count": 4,
   "metadata": {},
   "outputs": [],
   "source": [
    "def pad_to_batch(batch, w_to_ix):  # for bAbI dataset\n",
    "    fact, q, a = list(zip(*batch))\n",
    "    max_fact = max([len(f) for f in fact])\n",
    "    max_len = max([f.shape[1] for f in flatten(fact)])\n",
    "    max_q = max([qq.shape[1] for qq in q])\n",
    "    max_a = max([aa.shape[1] for aa in a])\n",
    "\n",
    "    facts, fact_masks, q_p, a_p = [], [], [], []\n",
    "    for i in range(len(batch)):\n",
    "        fact_p_t = []\n",
    "\n",
    "        for j in range(len(fact[i])):\n",
    "            if fact[i][j].shape[1] < max_len:\n",
    "                fact_p_t.append(ops.cat([fact[i][j], Parameter(Tensor([w_to_ix['<PAD>']] * (max_len - fact[i][j].shape[1]), mindspore.int64)).view(1, -1)], 1))\n",
    "            else:\n",
    "                fact_p_t.append(fact[i][j])\n",
    "\n",
    "        while len(fact_p_t) < max_fact:\n",
    "            fact_p_t.append(Tensor([w_to_ix['<PAD>']] * max_len, dtype=mindspore.int64).view(1, -1))\n",
    "\n",
    "        fact_p_t = ops.cat(fact_p_t)\n",
    "        facts.append(fact_p_t)\n",
    "        fact_masks.append(ops.cat([Tensor(tuple(map(lambda s: s == 0, t.asnumpy())), dtype=mindspore.byte) for t in fact_p_t]).view(fact_p_t.shape[0], -1))\n",
    "\n",
    "        if q[i].shape[1] < max_q:\n",
    "            q_p.append(ops.cat([q[i], Parameter(Tensor([w_to_ix['<PAD>']] * (max_q - q[i].shape[1]), mindspore.int64)).view(1, -1)], 1))\n",
    "        else:\n",
    "            q_p.append(q[i])\n",
    "\n",
    "        if a[i].shape[1] < max_a:\n",
    "            a_p.append(ops.cat([a[i], Parameter(Tensor([w_to_ix['<PAD>']] * (max_a - a[i].shape[1]), mindspore.int64)).view(1, -1)], 1))\n",
    "        else:\n",
    "            a_p.append(a[i])\n",
    "\n",
    "    questions = ops.cat(q_p)\n",
    "    answers = ops.cat(a_p)\n",
    "    question_masks = ops.cat([Tensor(tuple(map(lambda s: s == 0, t.asnumpy())), dtype=mindspore.byte) for t in questions]).view(questions.shape[0], -1)\n",
    "\n",
    "    return facts, fact_masks, questions, question_masks, answers"
   ]
  },
  {
   "cell_type": "code",
   "execution_count": 5,
   "metadata": {},
   "outputs": [],
   "source": [
    "def prepare_sequence(seq, word2index):\n",
    "    idxs = [word2index.get(w, word2index[\"<UNK>\"]) for w in seq]\n",
    "    sequence = Tensor(idxs, dtype=mindspore.int64)\n",
    "    return sequence"
   ]
  },
  {
   "attachments": {},
   "cell_type": "markdown",
   "metadata": {},
   "source": [
    "## Data load and Preprocessing "
   ]
  },
  {
   "attachments": {},
   "cell_type": "markdown",
   "metadata": {},
   "source": [
    "### bAbI dataset(https://research.fb.com/downloads/babi/)"
   ]
  },
  {
   "cell_type": "code",
   "execution_count": 6,
   "metadata": {},
   "outputs": [],
   "source": [
    "def bAbI_data_load(path):\n",
    "    try:\n",
    "        data = open(path).readlines()\n",
    "    except FileNotFoundError:\n",
    "        print(\"Such a file does not exist at {}\".format(path))\n",
    "        return None\n",
    "    except PermissionError:\n",
    "        print(\"Permission denied for file at {}\".format(path))\n",
    "        return None\n",
    "    except IsADirectoryError:\n",
    "        print(\"{} is a directory, not a file\".format(path))\n",
    "        return None\n",
    "\n",
    "    data = [d[:-1] for d in data]\n",
    "    data_p = []\n",
    "    fact = []\n",
    "    try:\n",
    "        for d in data:\n",
    "            index = d.split(' ')[0]\n",
    "            if index == '1':\n",
    "                fact = []\n",
    "            if '?' in d:\n",
    "                temp = d.split('\\t')\n",
    "                q = temp[0].strip().replace('?', '').split(' ')[1:] + ['?']\n",
    "                a = temp[1].split() + ['</s>']\n",
    "                stemp = deepcopy(fact)\n",
    "                data_p.append([stemp, q, a])\n",
    "            else:\n",
    "                tokens = d.replace('.', '').split(' ')[1:] + ['</s>']\n",
    "                fact.append(tokens)\n",
    "    except Exception:\n",
    "        print(\"Please check the data is right\")\n",
    "        return None\n",
    "    return data_p"
   ]
  },
  {
   "cell_type": "code",
   "execution_count": 7,
   "metadata": {},
   "outputs": [],
   "source": [
    "train_data = bAbI_data_load('../dataset/bAbI/en-10k/qa5_three-arg-relations_train.txt')"
   ]
  },
  {
   "cell_type": "code",
   "execution_count": 8,
   "metadata": {},
   "outputs": [
    {
     "data": {
      "text/plain": [
       "[[['Bill', 'travelled', 'to', 'the', 'office', '</s>'],\n",
       "  ['Bill', 'picked', 'up', 'the', 'football', 'there', '</s>'],\n",
       "  ['Bill', 'went', 'to', 'the', 'bedroom', '</s>'],\n",
       "  ['Bill', 'gave', 'the', 'football', 'to', 'Fred', '</s>']],\n",
       " ['What', 'did', 'Bill', 'give', 'to', 'Fred', '?'],\n",
       " ['football', '</s>']]"
      ]
     },
     "execution_count": 8,
     "metadata": {},
     "output_type": "execute_result"
    }
   ],
   "source": [
    "train_data[0]"
   ]
  },
  {
   "cell_type": "code",
   "execution_count": 9,
   "metadata": {},
   "outputs": [],
   "source": [
    "fact, q, a = list(zip(*train_data))"
   ]
  },
  {
   "cell_type": "code",
   "execution_count": 10,
   "metadata": {},
   "outputs": [],
   "source": [
    "vocab = list(set(flatten(flatten(fact)) + flatten(q) + flatten(a)))"
   ]
  },
  {
   "cell_type": "code",
   "execution_count": 11,
   "metadata": {},
   "outputs": [],
   "source": [
    "word2index = {'<PAD>': 0, '<UNK>': 1, '<s>': 2, '</s>': 3}\n",
    "for vo in vocab:\n",
    "    if word2index.get(vo) is None:\n",
    "        word2index[vo] = len(word2index)\n",
    "index2word = {v: k for k, v in word2index.items()}"
   ]
  },
  {
   "cell_type": "code",
   "execution_count": 12,
   "metadata": {},
   "outputs": [
    {
     "data": {
      "text/plain": [
       "44"
      ]
     },
     "execution_count": 12,
     "metadata": {},
     "output_type": "execute_result"
    }
   ],
   "source": [
    "len(word2index)"
   ]
  },
  {
   "cell_type": "code",
   "execution_count": 13,
   "metadata": {},
   "outputs": [],
   "source": [
    "for t in train_data:\n",
    "    for i, fact in enumerate(t[0]):\n",
    "        t[0][i] = prepare_sequence(fact, word2index).view(1, -1)\n",
    "\n",
    "    t[1] = prepare_sequence(t[1], word2index).view(1, -1)\n",
    "    t[2] = prepare_sequence(t[2], word2index).view(1, -1)"
   ]
  },
  {
   "attachments": {},
   "cell_type": "markdown",
   "metadata": {},
   "source": [
    "## Modeling "
   ]
  },
  {
   "attachments": {},
   "cell_type": "markdown",
   "metadata": {},
   "source": [
    "<img src=\"../images/10.dmn-architecture.png\">\n",
    "<center>borrowed image from https://arxiv.org/pdf/1506.07285.pdf</center>"
   ]
  },
  {
   "cell_type": "code",
   "execution_count": 13,
   "metadata": {},
   "outputs": [],
   "source": [
    "class DMN(nn.Cell):\n",
    "    def __init__(self, input_size, hidden_size, output_size, dropout_p=0.1):\n",
    "        super(DMN, self).__init__()\n",
    "\n",
    "        self.hidden_size = hidden_size\n",
    "        self.embed = nn.Embedding(input_size, hidden_size, padding_idx=0, embedding_table=\"XavierUniform\")  # sparse=True)\n",
    "        self.input_gru = nn.GRU(hidden_size, hidden_size, batch_first=True)\n",
    "        self.question_gru = nn.GRU(hidden_size, hidden_size, batch_first=True)\n",
    "\n",
    "        self.gate = nn.SequentialCell(\n",
    "            nn.Dense(hidden_size * 4, hidden_size, weight_init=\"XavierNormal\"),\n",
    "            nn.Tanh(),\n",
    "            nn.Dense(hidden_size, 1, weight_init=\"XavierNormal\"),\n",
    "            nn.Sigmoid()\n",
    "        )\n",
    "\n",
    "        self.attention_grucell = nn.GRUCell(hidden_size, hidden_size)\n",
    "        self.memory_grucell = nn.GRUCell(hidden_size, hidden_size)\n",
    "        self.answer_grucell = nn.GRUCell(hidden_size * 2, hidden_size)\n",
    "        self.answer_fc = nn.Dense(hidden_size, output_size, weight_init=\"XavierNormal\", bias_init=\"Zero\")\n",
    "\n",
    "        self.dropout = nn.Dropout(p=dropout_p)\n",
    "\n",
    "    def init_hidden(self, inputs):\n",
    "        hidden = ops.zeros((1, inputs.shape[0], self.hidden_size))\n",
    "        return hidden\n",
    "\n",
    "    def init_weight(self, hidden_size):\n",
    "        # Weight initialization of GRU\n",
    "        self.input_gru.weight_ih = initializer('XavierNormal', [hidden_size, hidden_size])\n",
    "        self.input_gru.weight_hh = initializer('XavierNormal', [hidden_size, hidden_size])\n",
    "\n",
    "        self.question_gru.weight_ih = initializer('XavierNormal', [hidden_size, hidden_size])\n",
    "        self.question_gru.weight_hh = initializer('XavierNormal', [hidden_size, hidden_size])\n",
    "\n",
    "        # Weight initialization of GRUCell\n",
    "        self.attention_grucell.weight_ih.set_data(initializer('XavierNormal', self.attention_grucell.weight_ih.shape))\n",
    "        self.attention_grucell.weight_hh.set_data(initializer('XavierNormal', self.attention_grucell.weight_hh.shape))\n",
    "\n",
    "        self.memory_grucell.weight_ih.set_data(initializer('XavierNormal', self.memory_grucell.weight_ih.shape))\n",
    "        self.memory_grucell.weight_hh.set_data(initializer('XavierNormal', self.memory_grucell.weight_hh.shape))\n",
    "\n",
    "        self.answer_grucell.weight_ih.set_data(initializer('XavierNormal', self.answer_grucell.weight_ih.shape))\n",
    "        self.answer_grucell.weight_hh.set_data(initializer('XavierNormal', self.answer_grucell.weight_hh.shape))\n",
    "\n",
    "    def construct(self, facts, fact_masks, questions, question_masks, num_decode, episodes=3, is_training=False):\n",
    "        \"\"\"\n",
    "        facts : (B,T_C,T_I) / LongTensor in List # batch_size, num_of_facts, length_of_each_fact(padded)\n",
    "        fact_masks : (B,T_C,T_I) / ByteTensor in List # batch_size, num_of_facts, length_of_each_fact(padded)\n",
    "        questions : (B,T_Q) / LongTensor # batch_size, question_length\n",
    "        question_masks : (B,T_Q) / ByteTensor # batch_size, question_length\n",
    "        \"\"\"\n",
    "        # Input Module\n",
    "        C = []  # encoded facts\n",
    "        for fact, fact_mask in zip(facts, fact_masks):\n",
    "            embeds = self.embed(fact)\n",
    "            if is_training:\n",
    "                embeds = self.dropout(embeds)\n",
    "            hidden = self.init_hidden(fact)\n",
    "            outputs, hidden = self.input_gru(embeds, hidden)\n",
    "            real_hidden = []\n",
    "\n",
    "            for i, o in enumerate(outputs):  # B,T,D\n",
    "                real_length = fact_mask[i].asnumpy().item(0)\n",
    "                real_hidden.append(o[real_length - 1])\n",
    "\n",
    "            C.append(ops.cat(real_hidden).view(fact.shape[0], -1).unsqueeze(0))\n",
    "\n",
    "        encoded_facts = ops.cat(C)  # B,T_C,D\n",
    "\n",
    "        # Question Module\n",
    "        embeds = self.embed(questions)\n",
    "        if is_training:\n",
    "            embeds = self.dropout(embeds)\n",
    "        hidden = self.init_hidden(questions)\n",
    "        outputs, hidden = self.question_gru(embeds, hidden)\n",
    "\n",
    "        if is_training:\n",
    "            real_question = []\n",
    "            for i, o in enumerate(outputs):  # B,T,D\n",
    "                real_length = question_masks[i].asnumpy().item(0)\n",
    "                real_question.append(o[real_length - 1])\n",
    "            encoded_question = ops.cat(real_question).view(questions.shape[0], -1)  # B,D\n",
    "        else:  # for inference mode\n",
    "            encoded_question = hidden.squeeze(0)  # B,D\n",
    "\n",
    "        # Episodic Memory Module\n",
    "        memory = encoded_question\n",
    "        T_C = encoded_facts.shape[1]\n",
    "        B = encoded_facts.shape[0]\n",
    "\n",
    "        transposed_facts = ops.transpose(encoded_facts, (1, 0, 2))\n",
    "        for i in range(episodes):\n",
    "            hidden = self.init_hidden(transposed_facts[0]).squeeze(0)  # B,D\n",
    "            for t in range(T_C):\n",
    "                # TODO: fact masking\n",
    "                # TODO: gate function => softmax\n",
    "                z = ops.cat([\n",
    "                    transposed_facts[t] * encoded_question,  # B,D , element-wise product\n",
    "                    transposed_facts[t] * memory,  # B,D , element-wise product\n",
    "                    ops.abs(transposed_facts[t] - encoded_question),  # B,D\n",
    "                    ops.abs(transposed_facts[t] - memory)  # B,D\n",
    "                ], 1)\n",
    "                g_t = self.gate(z)  # B,1 scalar\n",
    "                hidden = g_t * self.attention_grucell(transposed_facts[t], hidden) + (1 - g_t) * hidden\n",
    "\n",
    "            e = hidden\n",
    "            memory = self.memory_grucell(e, memory)\n",
    "\n",
    "        # Answer Module\n",
    "        answer_hidden = memory\n",
    "        start_decode = ops.transpose(Tensor([[word2index['<s>']] * memory.shape[0]], dtype=mindspore.int64), (1, 0))\n",
    "        y_t_1 = self.embed(start_decode).squeeze(1)  # B,D\n",
    "\n",
    "        decodes = []\n",
    "        for t in range(num_decode):\n",
    "            answer_hidden = self.answer_grucell(ops.cat([y_t_1, encoded_question], 1), answer_hidden)\n",
    "            decodes.append(ops.log_softmax(self.answer_fc(answer_hidden), 1))\n",
    "        return ops.cat(decodes, 1).view(B * num_decode, -1)"
   ]
  },
  {
   "attachments": {},
   "cell_type": "markdown",
   "metadata": {},
   "source": [
    "## Train "
   ]
  },
  {
   "attachments": {},
   "cell_type": "markdown",
   "metadata": {},
   "source": [
    "It takes for a while if you use just cpu."
   ]
  },
  {
   "cell_type": "code",
   "execution_count": 14,
   "metadata": {},
   "outputs": [],
   "source": [
    "HIDDEN_SIZE = 80\n",
    "BATCH_SIZE = 64\n",
    "LR = 0.001\n",
    "EPOCH = 50\n",
    "NUM_EPISODE = 3\n",
    "EARLY_STOPPING = False"
   ]
  },
  {
   "cell_type": "code",
   "execution_count": 15,
   "metadata": {},
   "outputs": [],
   "source": [
    "model = DMN(len(word2index), HIDDEN_SIZE, len(word2index))\n",
    "model.init_weight(HIDDEN_SIZE)\n",
    "\n",
    "loss_function = nn.CrossEntropyLoss(ignore_index=0)\n",
    "optimizer = nn.Adam(model.trainable_params(), learning_rate=LR)"
   ]
  },
  {
   "cell_type": "code",
   "execution_count": 16,
   "metadata": {},
   "outputs": [],
   "source": [
    "accumulate_step = 2\n",
    "accumulator = Accumulator(optimizer, accumulate_step)\n",
    "\n",
    "\n",
    "def forward_fn(facts, fact_masks, questions, question_masks, answers, is_training):\n",
    "    \"\"\"Forward function\"\"\"\n",
    "    preds = model(facts, fact_masks, questions, question_masks, answers.shape[1], NUM_EPISODE, is_training)\n",
    "    answers = answers.astype(mindspore.int32)\n",
    "    loss = loss_function(preds, answers.view(-1))\n",
    "    return loss / accumulate_step\n",
    "\n",
    "\n",
    "# Get gradient function\n",
    "grad_fn = mindspore.value_and_grad(forward_fn, None, model.trainable_params())\n",
    "\n",
    "\n",
    "# Define function of one-step training\n",
    "def train_step(facts, fact_masks, questions, question_masks, answers, is_training):\n",
    "    \"\"\"Training steps\"\"\"\n",
    "    loss, grads = grad_fn(facts, fact_masks, questions, question_masks, answers, is_training)\n",
    "    loss = ops.depend(loss, accumulator(grads))\n",
    "    return loss"
   ]
  },
  {
   "cell_type": "code",
   "execution_count": 27,
   "metadata": {},
   "outputs": [
    {
     "name": "stdout",
     "output_type": "stream",
     "text": [
      "[0/50] mean_loss : 3.82\n",
      "[0/50] mean_loss : 1.87\n",
      "[1/50] mean_loss : 0.72\n",
      "[1/50] mean_loss : 0.68\n",
      "[2/50] mean_loss : 0.67\n",
      "[2/50] mean_loss : 0.66\n"
     ]
    }
   ],
   "source": [
    "for epoch in range(EPOCH):\n",
    "    losses = []\n",
    "    if EARLY_STOPPING:\n",
    "        break\n",
    "\n",
    "    for i, batch in enumerate(getBatch(BATCH_SIZE, train_data)):\n",
    "        facts, fact_masks, questions, question_masks, answers = pad_to_batch(batch, word2index)\n",
    "\n",
    "        loss = train_step(facts, fact_masks, questions, question_masks, answers, True)\n",
    "        losses.append(loss.asnumpy().item(0) * accumulate_step)\n",
    "\n",
    "        if i % 100 == 0:\n",
    "            print(\"[%d/%d] mean_loss : %0.2f\" % (epoch, EPOCH, np.mean(losses)))\n",
    "\n",
    "            if np.mean(losses) < 0.01:\n",
    "                EARLY_STOPPING = True\n",
    "                print(\"Early Stopping!\")\n",
    "                break\n",
    "            losses = []"
   ]
  },
  {
   "attachments": {},
   "cell_type": "markdown",
   "metadata": {},
   "source": [
    "## Test "
   ]
  },
  {
   "cell_type": "code",
   "execution_count": 17,
   "metadata": {
    "collapsed": true,
    "jupyter": {
     "outputs_hidden": true
    }
   },
   "outputs": [],
   "source": [
    "def pad_to_fact(fact, x_to_ix):  # this is for inference\n",
    "    max_x = max([s.shape[1] for s in fact])\n",
    "    x_p = []\n",
    "    for i in range(len(fact)):\n",
    "        if fact[i].shape[1] < max_x:\n",
    "            x_p.append(ops.cat([fact[i], Tensor([x_to_ix['<PAD>']] * (max_x - fact[i].shape[1]), dtype=mindspore.int64).view(1, -1)], 1))\n",
    "        else:\n",
    "            x_p.append(fact[i])\n",
    "\n",
    "    fact = ops.cat(x_p)\n",
    "    fact_mask = ops.cat([Parameter(Tensor(tuple(map(lambda s: s == 0, t.asnumpy())), dtype=mindspore.byte), requires_grad=False) for t in fact]).view(fact.shape[0], -1)\n",
    "    return fact, fact_mask"
   ]
  },
  {
   "attachments": {},
   "cell_type": "markdown",
   "metadata": {},
   "source": [
    "### Prepare Test data "
   ]
  },
  {
   "cell_type": "code",
   "execution_count": 18,
   "metadata": {
    "collapsed": true,
    "jupyter": {
     "outputs_hidden": true
    }
   },
   "outputs": [],
   "source": [
    "test_data = bAbI_data_load('../dataset/bAbI/en-10k/qa5_three-arg-relations_test.txt')"
   ]
  },
  {
   "cell_type": "code",
   "execution_count": 20,
   "metadata": {
    "collapsed": true,
    "jupyter": {
     "outputs_hidden": true
    }
   },
   "outputs": [],
   "source": [
    "for t in test_data:\n",
    "    for i, fact in enumerate(t[0]):\n",
    "        t[0][i] = prepare_sequence(fact, word2index).view(1, -1)\n",
    "\n",
    "    t[1] = prepare_sequence(t[1], word2index).view(1, -1)\n",
    "    t[2] = prepare_sequence(t[2], word2index).view(1, -1)"
   ]
  },
  {
   "attachments": {},
   "cell_type": "markdown",
   "metadata": {},
   "source": [
    "### Accuracy "
   ]
  },
  {
   "cell_type": "code",
   "execution_count": 21,
   "metadata": {
    "collapsed": true,
    "jupyter": {
     "outputs_hidden": true
    }
   },
   "outputs": [],
   "source": [
    "accuracy = 0"
   ]
  },
  {
   "cell_type": "code",
   "execution_count": null,
   "metadata": {},
   "outputs": [],
   "source": [
    "for t in test_data:\n",
    "    fact, fact_mask = pad_to_fact(t[0], word2index)\n",
    "    question = t[1]\n",
    "    question_mask = Parameter(Tensor([0] * t[1].shape[1], dtype=mindspore.byte), requires_grad=False).unsqueeze(0)\n",
    "    answer = t[2].squeeze(0)\n",
    "\n",
    "    pred = model([fact], [fact_mask], question, question_mask, answer.shape[0], NUM_EPISODE)\n",
    "    if (ops.max(pred, 1)[1].asnumpy() == answer.asnumpy()).all():\n",
    "        accuracy += 1\n",
    "\n",
    "print(accuracy / len(test_data) * 100)"
   ]
  },
  {
   "attachments": {},
   "cell_type": "markdown",
   "metadata": {},
   "source": [
    "### Sample test result "
   ]
  },
  {
   "cell_type": "code",
   "execution_count": 34,
   "metadata": {},
   "outputs": [
    {
     "name": "stdout",
     "output_type": "stream",
     "text": [
      "Facts : \n",
      "Bill went back to the bedroom </s>\n",
      "Mary went to the office </s> <PAD>\n",
      "Jeff journeyed to the kitchen </s> <PAD>\n",
      "Fred journeyed to the kitchen </s> <PAD>\n",
      "Fred got the milk there </s> <PAD>\n",
      "Fred handed the milk to Jeff </s>\n",
      "Jeff passed the milk to Fred </s>\n",
      "Fred gave the milk to Jeff </s>\n",
      "\n",
      "Question :  Who received the milk ?\n",
      "\n",
      "Answer :  Jeff </s>\n",
      "Prediction :  Jeff </s>\n"
     ]
    }
   ],
   "source": [
    "t = random.choice(test_data)\n",
    "fact, fact_mask = pad_to_fact(t[0], word2index)\n",
    "question = t[1]\n",
    "question_mask = Parameter(Tensor([0] * t[1].shape[1], dtype=mindspore.byte), requires_grad=False).unsqueeze(0)\n",
    "answer = t[2].squeeze(0)\n",
    "\n",
    "pred = model([fact], [fact_mask], question, question_mask, answer.shape[0], NUM_EPISODE)\n",
    "\n",
    "print(\"Facts : \")\n",
    "print('\\n'.join([' '.join(list(map(lambda x: index2word[x], f))) for f in fact.asnumpy().tolist()]))\n",
    "print(\"\")\n",
    "print(\"Question : \", ' '.join(list(map(lambda x: index2word[x], question.asnumpy().tolist()[0]))))\n",
    "print(\"\")\n",
    "print(\"Answer : \", ' '.join(list(map(lambda x: index2word[x], answer.asnumpy().tolist()))))\n",
    "print(\"Prediction : \", ' '.join(list(map(lambda x: index2word[x], ops.max(pred, 1)[1].asnumpy().tolist()))))"
   ]
  },
  {
   "attachments": {},
   "cell_type": "markdown",
   "metadata": {},
   "source": [
    "## Further topics "
   ]
  },
  {
   "attachments": {},
   "cell_type": "markdown",
   "metadata": {},
   "source": [
    "* <a href=\"https://arxiv.org/pdf/1603.01417.pdf\">Dynamic Memory Networks for Visual and Textual Question Answering(DMN+)</a>\n",
    "* <a href=\"https://github.com/dandelin/Dynamic-memory-networks-plus-Pytorch\">DMN+ Pytorch implementation</a>\n",
    "* <a href=\"https://arxiv.org/pdf/1611.01604\">Dynamic Coattention Networks For Question Answering</a>\n",
    "* <a href=\"https://arxiv.org/pdf/1711.00106\">DCN+: Mixed Objective and Deep Residual Coattention for Question Answering</a>"
   ]
  }
 ],
 "metadata": {
  "kernelspec": {
   "display_name": "Python 3",
   "language": "python",
   "name": "python3"
  },
  "language_info": {
   "codemirror_mode": {
    "name": "ipython",
    "version": 3
   },
   "file_extension": ".py",
   "mimetype": "text/x-python",
   "name": "python",
   "nbconvert_exporter": "python",
   "pygments_lexer": "ipython3",
   "version": "3.7.13"
  }
 },
 "nbformat": 4,
 "nbformat_minor": 4
}
