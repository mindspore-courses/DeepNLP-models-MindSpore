{
 "cells": [
  {
   "attachments": {},
   "cell_type": "markdown",
   "metadata": {},
   "source": [
    "# 6. Recurrent Neural Networks and Language Models"
   ]
  },
  {
   "attachments": {},
   "cell_type": "markdown",
   "metadata": {},
   "source": [
    "* http://web.stanford.edu/class/cs224n/lectures/cs224n-2017-lecture8.pdf\n",
    "* http://web.stanford.edu/class/cs224n/lectures/cs224n-2017-lecture9.pdf\n",
    "* http://colah.github.io/posts/2015-08-Understanding-LSTMs/\n",
    "* https://github.com/pytorch/examples/tree/master/word_language_model\n",
    "* https://github.com/yunjey/pytorch-tutorial/blob/master/tutorials/02-intermediate/language_model"
   ]
  },
  {
   "cell_type": "code",
   "execution_count": 1,
   "metadata": {
    "collapsed": true
   },
   "outputs": [
    {
     "name": "stderr",
     "output_type": "stream",
     "text": [
      "[WARNING] ME(1105619:140631418713920,MainProcess):2023-07-09-13:21:50.439.917 [mindspore/run_check/_check_version.py:102] MindSpore version 2.0.0.20230623 and cuda version 11.7.60 does not match, CUDA version [['10.1', '11.1', '11.6']] are supported by MindSpore officially. Please refer to the installation guide for version matching information: https://www.mindspore.cn/install.\n",
      "/home/daiyuxin/anaconda3/envs/cjh1/lib/python3.7/site-packages/mindnlp/utils/download.py:29: TqdmExperimentalWarning: Using `tqdm.autonotebook.tqdm` in notebook mode. Use `tqdm.tqdm` instead to force console mode (e.g. in jupyter console)\n",
      "  from tqdm.autonotebook import tqdm\n"
     ]
    }
   ],
   "source": [
    "import os\n",
    "import mindspore\n",
    "from mindspore import nn, ops, Tensor\n",
    "import random\n",
    "import numpy as np\n",
    "from mindnlp.modules import Accumulator\n",
    "flatten = lambda l: [item for sublist in l for item in sublist]\n",
    "random.seed(1024)"
   ]
  },
  {
   "cell_type": "code",
   "execution_count": 2,
   "metadata": {
    "collapsed": true
   },
   "outputs": [],
   "source": [
    "gpu = '0'\n",
    "# 设置使用哪些显卡进行训练\n",
    "os.environ[\"CUDA_VISIBLE_DEVICES\"] = gpu"
   ]
  },
  {
   "cell_type": "code",
   "execution_count": 3,
   "metadata": {
    "collapsed": true
   },
   "outputs": [],
   "source": [
    "def prepare_sequence(seq, word2index):\n",
    "    idxs = list(map(lambda w: word2index[w]\n",
    "                    if word2index.get(w) is not None\n",
    "                    else word2index[\"<UNK>\"], seq))\n",
    "    sequence = Tensor(idxs, dtype=mindspore.int64)\n",
    "    return sequence"
   ]
  },
  {
   "attachments": {},
   "cell_type": "markdown",
   "metadata": {},
   "source": [
    "## Data load and Preprocessing"
   ]
  },
  {
   "attachments": {},
   "cell_type": "markdown",
   "metadata": {},
   "source": [
    "### Penn TreeBank"
   ]
  },
  {
   "cell_type": "code",
   "execution_count": 4,
   "metadata": {
    "collapsed": true
   },
   "outputs": [],
   "source": [
    "def prepare_ptb_dataset(filename, word2index=None):\n",
    "    corpus = open(filename, 'r', encoding='utf-8').readlines()\n",
    "    corpus = flatten([co.strip().split() + ['</s>'] for co in corpus])\n",
    "\n",
    "    if word2index is None:\n",
    "        vocab = list(set(corpus))\n",
    "        word2index = {'<unk>': 0}\n",
    "        for vo in vocab:\n",
    "            if word2index.get(vo) is None:\n",
    "                word2index[vo] = len(word2index)\n",
    "\n",
    "    return prepare_sequence(corpus, word2index), word2index"
   ]
  },
  {
   "cell_type": "code",
   "execution_count": 5,
   "metadata": {
    "collapsed": true
   },
   "outputs": [],
   "source": [
    "# borrowed code from https://github.com/pytorch/examples/tree/master/word_language_model\n",
    "\n",
    "def batchify(data, bsz):\n",
    "    # Work out how cleanly we can divide the dataset into bsz parts.\n",
    "    nbatch = data.shape[0] // bsz\n",
    "    # Trim off any extra elements that wouldn't cleanly fit (remainders).\n",
    "    data = data.narrow(0, 0, nbatch * bsz)\n",
    "    # Evenly divide the data across the bsz batches.\n",
    "    data = data.view(bsz, -1)\n",
    "    return data"
   ]
  },
  {
   "cell_type": "code",
   "execution_count": 6,
   "metadata": {
    "collapsed": true
   },
   "outputs": [],
   "source": [
    "def getBatch(data, seq_length):\n",
    "    for i in range(0, data.shape[1] - seq_length, seq_length):\n",
    "        inputs = data[:, i: i + seq_length]\n",
    "        targets = data[:, (i + 1): (i + 1) + seq_length]\n",
    "        yield (inputs, targets)"
   ]
  },
  {
   "cell_type": "code",
   "execution_count": 7,
   "metadata": {
    "collapsed": true
   },
   "outputs": [],
   "source": [
    "train_data, word2index = prepare_ptb_dataset('../dataset/ptb/ptb.train.txt')\n",
    "dev_data , _ = prepare_ptb_dataset('../dataset/ptb/ptb.valid.txt', word2index)\n",
    "test_data, _ = prepare_ptb_dataset('../dataset/ptb/ptb.test.txt', word2index)"
   ]
  },
  {
   "cell_type": "code",
   "execution_count": 8,
   "metadata": {
    "collapsed": false
   },
   "outputs": [
    {
     "data": {
      "text/plain": [
       "10000"
      ]
     },
     "execution_count": 8,
     "metadata": {},
     "output_type": "execute_result"
    }
   ],
   "source": [
    "len(word2index)"
   ]
  },
  {
   "cell_type": "code",
   "execution_count": 9,
   "metadata": {
    "collapsed": true
   },
   "outputs": [],
   "source": [
    "index2word = {v: k for k, v in word2index.items()}"
   ]
  },
  {
   "attachments": {},
   "cell_type": "markdown",
   "metadata": {},
   "source": [
    "## Modeling "
   ]
  },
  {
   "attachments": {},
   "cell_type": "markdown",
   "metadata": {},
   "source": [
    "<img src=\"../images/06.rnnlm-architecture.png\">\n",
    "<center>borrowed image from http://web.stanford.edu/class/cs224n/lectures/cs224n-2017-lecture8.pdf</center>"
   ]
  },
  {
   "cell_type": "code",
   "execution_count": 10,
   "metadata": {
    "collapsed": true
   },
   "outputs": [],
   "source": [
    "class LanguageModel(nn.Cell):\n",
    "    def __init__(self, vocab_size, embedding_size, hidden_size, n_layers=1, dropout_p=0.5):\n",
    "\n",
    "        super(LanguageModel, self).__init__()\n",
    "        self.n_layers = n_layers\n",
    "        self.hidden_size = hidden_size\n",
    "        self.embed = nn.Embedding(vocab_size, embedding_size, embedding_table=\"XavierUniform\")\n",
    "        self.rnn = nn.LSTM(embedding_size, hidden_size, n_layers, batch_first=True)\n",
    "        self.dense = nn.Dense(hidden_size, vocab_size, weight_init=\"XavierUniform\", bias_init=\"Zero\")\n",
    "        self.dropout = nn.Dropout(p=dropout_p)\n",
    "\n",
    "    def init_hidden(self, batch_size):\n",
    "        hidden = ops.zeros((self.n_layers, batch_size, self.hidden_size))\n",
    "        context = ops.zeros((self.n_layers, batch_size, self.hidden_size))\n",
    "        return (hidden, context)\n",
    "\n",
    "    def detach_hidden(self, hiddens):\n",
    "        return tuple([hidden.copy() for hidden in hiddens])\n",
    "\n",
    "    def construct(self, inputs, hidden, is_training=False):\n",
    "        embeds = self.embed(inputs)\n",
    "        if is_training:\n",
    "            embeds = self.dropout(embeds)\n",
    "        out, hidden = self.rnn(embeds, hidden)\n",
    "        return self.dense(out.view(out.shape[0] * out.shape[1], -1)), hidden"
   ]
  },
  {
   "attachments": {},
   "cell_type": "markdown",
   "metadata": {},
   "source": [
    "## Train "
   ]
  },
  {
   "attachments": {},
   "cell_type": "markdown",
   "metadata": {},
   "source": [
    "It takes for a while..."
   ]
  },
  {
   "cell_type": "code",
   "execution_count": 11,
   "metadata": {
    "collapsed": true
   },
   "outputs": [],
   "source": [
    "EMBED_SIZE = 128\n",
    "HIDDEN_SIZE = 1024\n",
    "NUM_LAYER = 1\n",
    "LR = 0.0002\n",
    "SEQ_LENGTH = 30  # for bptt\n",
    "BATCH_SIZE = 20\n",
    "EPOCH = 40\n",
    "RESCHEDULED = False"
   ]
  },
  {
   "cell_type": "code",
   "execution_count": 12,
   "metadata": {
    "collapsed": true
   },
   "outputs": [],
   "source": [
    "train_data = batchify(train_data, BATCH_SIZE)\n",
    "dev_data = batchify(dev_data, BATCH_SIZE // 2)\n",
    "test_data = batchify(test_data, BATCH_SIZE // 2)"
   ]
  },
  {
   "cell_type": "code",
   "execution_count": 13,
   "metadata": {
    "collapsed": true
   },
   "outputs": [],
   "source": [
    "model = LanguageModel(len(word2index), EMBED_SIZE, HIDDEN_SIZE, NUM_LAYER, 0.5)\n",
    "loss_function = nn.CrossEntropyLoss()\n",
    "optimizer = nn.Adam(model.trainable_params(), learning_rate=LR)"
   ]
  },
  {
   "cell_type": "code",
   "execution_count": 14,
   "metadata": {},
   "outputs": [],
   "source": [
    "accumulate_step = 2\n",
    "accumulator = Accumulator(optimizer, accumulate_step)\n",
    "\n",
    "\n",
    "def forward_fn(inputs, hidden, targets, is_training):\n",
    "    \"\"\"Forward function\"\"\"\n",
    "    preds, hidden = model(inputs, hidden, is_training)\n",
    "    targets = targets.astype(mindspore.int32)\n",
    "    loss = loss_function(preds, targets.view(-1))\n",
    "    return loss / accumulate_step\n",
    "\n",
    "\n",
    "# Get gradient function\n",
    "grad_fn = mindspore.value_and_grad(forward_fn, None, model.trainable_params())\n",
    "\n",
    "\n",
    "# Define function of one-step training\n",
    "def train_step(inputs, hidden, targets, is_training):\n",
    "    \"\"\"Training steps\"\"\"\n",
    "    loss, grads = grad_fn(inputs, hidden, targets, is_training)\n",
    "    grads = ops.clip_by_value(grads, clip_value_min=-0.5, clip_value_max=0.5)\n",
    "    loss = ops.depend(loss, accumulator(grads))\n",
    "    return loss"
   ]
  },
  {
   "cell_type": "code",
   "execution_count": 15,
   "metadata": {
    "collapsed": false
   },
   "outputs": [
    {
     "name": "stdout",
     "output_type": "stream",
     "text": [
      "[00/40] mean_loss : 7.00, Perplexity : 1094.19\n",
      "[00/40] mean_loss : 6.62, Perplexity : 749.49\n",
      "[00/40] mean_loss : 6.40, Perplexity : 601.51\n",
      "[01/40] mean_loss : 6.21, Perplexity : 497.77\n",
      "[01/40] mean_loss : 6.09, Perplexity : 442.04\n",
      "[01/40] mean_loss : 5.96, Perplexity : 386.40\n",
      "[02/40] mean_loss : 5.89, Perplexity : 359.83\n",
      "[02/40] mean_loss : 5.81, Perplexity : 332.81\n",
      "[02/40] mean_loss : 5.70, Perplexity : 298.73\n",
      "[03/40] mean_loss : 5.66, Perplexity : 285.92\n",
      "[03/40] mean_loss : 5.60, Perplexity : 269.15\n",
      "[03/40] mean_loss : 5.51, Perplexity : 246.17\n",
      "[04/40] mean_loss : 5.48, Perplexity : 239.39\n",
      "[04/40] mean_loss : 5.43, Perplexity : 228.43\n",
      "[04/40] mean_loss : 5.35, Perplexity : 211.15\n",
      "[05/40] mean_loss : 5.33, Perplexity : 206.84\n",
      "[05/40] mean_loss : 5.29, Perplexity : 198.86\n",
      "[05/40] mean_loss : 5.22, Perplexity : 185.06\n",
      "[06/40] mean_loss : 5.20, Perplexity : 181.94\n",
      "[06/40] mean_loss : 5.17, Perplexity : 175.52\n",
      "[06/40] mean_loss : 5.10, Perplexity : 163.99\n",
      "[07/40] mean_loss : 5.09, Perplexity : 161.96\n",
      "[07/40] mean_loss : 5.05, Perplexity : 156.48\n",
      "[07/40] mean_loss : 4.99, Perplexity : 146.73\n",
      "[08/40] mean_loss : 4.98, Perplexity : 145.62\n",
      "[08/40] mean_loss : 4.95, Perplexity : 140.92\n",
      "[08/40] mean_loss : 4.89, Perplexity : 132.57\n",
      "[09/40] mean_loss : 4.88, Perplexity : 131.95\n",
      "[09/40] mean_loss : 4.85, Perplexity : 127.88\n",
      "[09/40] mean_loss : 4.79, Perplexity : 120.75\n",
      "[10/40] mean_loss : 4.79, Perplexity : 120.25\n",
      "[10/40] mean_loss : 4.76, Perplexity : 116.67\n",
      "[10/40] mean_loss : 4.71, Perplexity : 110.51\n",
      "[11/40] mean_loss : 4.70, Perplexity : 110.15\n",
      "[11/40] mean_loss : 4.67, Perplexity : 106.97\n",
      "[11/40] mean_loss : 4.62, Perplexity : 101.43\n",
      "[12/40] mean_loss : 4.62, Perplexity : 101.24\n",
      "[12/40] mean_loss : 4.59, Perplexity : 98.30\n",
      "[12/40] mean_loss : 4.54, Perplexity : 93.41\n",
      "[13/40] mean_loss : 4.53, Perplexity : 93.14\n",
      "[13/40] mean_loss : 4.51, Perplexity : 90.55\n",
      "[13/40] mean_loss : 4.46, Perplexity : 86.39\n",
      "[14/40] mean_loss : 4.45, Perplexity : 85.84\n",
      "[14/40] mean_loss : 4.43, Perplexity : 83.60\n",
      "[14/40] mean_loss : 4.38, Perplexity : 79.95\n",
      "[15/40] mean_loss : 4.37, Perplexity : 79.30\n",
      "[15/40] mean_loss : 4.35, Perplexity : 77.37\n",
      "[15/40] mean_loss : 4.31, Perplexity : 74.15\n",
      "[16/40] mean_loss : 4.30, Perplexity : 73.45\n",
      "[16/40] mean_loss : 4.27, Perplexity : 71.86\n",
      "[16/40] mean_loss : 4.23, Perplexity : 68.91\n",
      "[17/40] mean_loss : 4.22, Perplexity : 68.17\n",
      "[17/40] mean_loss : 4.20, Perplexity : 66.80\n",
      "[17/40] mean_loss : 4.16, Perplexity : 64.02\n",
      "[18/40] mean_loss : 4.15, Perplexity : 63.31\n",
      "[18/40] mean_loss : 4.13, Perplexity : 62.18\n",
      "[18/40] mean_loss : 4.09, Perplexity : 59.55\n",
      "[19/40] mean_loss : 4.08, Perplexity : 58.96\n",
      "[19/40] mean_loss : 4.06, Perplexity : 58.00\n",
      "[19/40] mean_loss : 4.02, Perplexity : 55.50\n",
      "[20/40] mean_loss : 4.01, Perplexity : 54.88\n",
      "[20/40] mean_loss : 3.99, Perplexity : 54.06\n",
      "[20/40] mean_loss : 3.95, Perplexity : 51.73\n",
      "[21/40] mean_loss : 4.09, Perplexity : 60.00\n",
      "[21/40] mean_loss : 4.09, Perplexity : 59.62\n",
      "[21/40] mean_loss : 3.98, Perplexity : 53.34\n",
      "[22/40] mean_loss : 4.06, Perplexity : 57.84\n",
      "[22/40] mean_loss : 4.05, Perplexity : 57.25\n",
      "[22/40] mean_loss : 3.96, Perplexity : 52.25\n",
      "[23/40] mean_loss : 4.04, Perplexity : 56.77\n",
      "[23/40] mean_loss : 4.02, Perplexity : 55.94\n",
      "[23/40] mean_loss : 3.94, Perplexity : 51.51\n",
      "[24/40] mean_loss : 4.02, Perplexity : 55.86\n",
      "[24/40] mean_loss : 4.01, Perplexity : 54.93\n",
      "[24/40] mean_loss : 3.93, Perplexity : 50.83\n",
      "[25/40] mean_loss : 4.01, Perplexity : 55.04\n",
      "[25/40] mean_loss : 3.99, Perplexity : 54.09\n",
      "[25/40] mean_loss : 3.92, Perplexity : 50.21\n",
      "[26/40] mean_loss : 3.99, Perplexity : 54.30\n",
      "[26/40] mean_loss : 3.98, Perplexity : 53.34\n",
      "[26/40] mean_loss : 3.90, Perplexity : 49.64\n",
      "[27/40] mean_loss : 3.98, Perplexity : 53.60\n",
      "[27/40] mean_loss : 3.96, Perplexity : 52.66\n",
      "[27/40] mean_loss : 3.89, Perplexity : 49.09\n",
      "[28/40] mean_loss : 3.97, Perplexity : 52.95\n",
      "[28/40] mean_loss : 3.95, Perplexity : 52.01\n",
      "[28/40] mean_loss : 3.88, Perplexity : 48.57\n",
      "[29/40] mean_loss : 3.96, Perplexity : 52.33\n",
      "[29/40] mean_loss : 3.94, Perplexity : 51.40\n",
      "[29/40] mean_loss : 3.87, Perplexity : 48.07\n",
      "[30/40] mean_loss : 3.95, Perplexity : 51.73\n",
      "[30/40] mean_loss : 3.93, Perplexity : 50.81\n",
      "[30/40] mean_loss : 3.86, Perplexity : 47.58\n",
      "[31/40] mean_loss : 3.93, Perplexity : 51.16\n",
      "[31/40] mean_loss : 3.92, Perplexity : 50.25\n",
      "[31/40] mean_loss : 3.85, Perplexity : 47.11\n",
      "[32/40] mean_loss : 3.92, Perplexity : 50.60\n",
      "[32/40] mean_loss : 3.91, Perplexity : 49.70\n",
      "[32/40] mean_loss : 3.84, Perplexity : 46.65\n",
      "[33/40] mean_loss : 3.91, Perplexity : 50.06\n",
      "[33/40] mean_loss : 3.90, Perplexity : 49.17\n",
      "[33/40] mean_loss : 3.83, Perplexity : 46.20\n",
      "[34/40] mean_loss : 3.90, Perplexity : 49.53\n",
      "[34/40] mean_loss : 3.88, Perplexity : 48.65\n",
      "[34/40] mean_loss : 3.82, Perplexity : 45.76\n",
      "[35/40] mean_loss : 3.89, Perplexity : 49.02\n",
      "[35/40] mean_loss : 3.87, Perplexity : 48.15\n",
      "[35/40] mean_loss : 3.81, Perplexity : 45.32\n",
      "[36/40] mean_loss : 3.88, Perplexity : 48.52\n",
      "[36/40] mean_loss : 3.86, Perplexity : 47.65\n",
      "[36/40] mean_loss : 3.80, Perplexity : 44.89\n",
      "[37/40] mean_loss : 3.87, Perplexity : 48.02\n",
      "[37/40] mean_loss : 3.85, Perplexity : 47.17\n",
      "[37/40] mean_loss : 3.79, Perplexity : 44.48\n",
      "[38/40] mean_loss : 3.86, Perplexity : 47.54\n",
      "[38/40] mean_loss : 3.84, Perplexity : 46.69\n",
      "[38/40] mean_loss : 3.79, Perplexity : 44.06\n",
      "[39/40] mean_loss : 3.85, Perplexity : 47.07\n",
      "[39/40] mean_loss : 3.83, Perplexity : 46.22\n",
      "[39/40] mean_loss : 3.78, Perplexity : 43.66\n"
     ]
    }
   ],
   "source": [
    "for epoch in range(EPOCH):\n",
    "    total_loss = 0\n",
    "    losses = []\n",
    "    hidden = model.init_hidden(BATCH_SIZE)\n",
    "    for i, batch in enumerate(getBatch(train_data, SEQ_LENGTH)):\n",
    "        inputs, targets = batch\n",
    "        hidden = model.detach_hidden(hidden)\n",
    "        loss = train_step(inputs, hidden, targets, True)\n",
    "\n",
    "        losses.append(loss.asnumpy().item(0) * accumulate_step)\n",
    "\n",
    "        if i > 0 and i % 500 == 0:\n",
    "            print(\"[%02d/%d] mean_loss : %0.2f, Perplexity : %0.2f\" % (epoch, EPOCH, np.mean(losses), np.exp(np.mean(losses))))\n",
    "            losses = []\n",
    "\n",
    "    # learning rate anealing\n",
    "    # You can use http://pytorch.org/docs/master/optim.html#how-to-adjust-learning-rate\n",
    "    if RESCHEDULED is False and epoch == EPOCH // 2:\n",
    "        LR *= 0.1\n",
    "        optimizer = nn.Adam(model.trainable_params(), learning_rate=LR)\n",
    "        accumulator = Accumulator(optimizer, accumulate_step)\n",
    "        RESCHEDULED = True"
   ]
  },
  {
   "attachments": {},
   "cell_type": "markdown",
   "metadata": {},
   "source": [
    "### Test "
   ]
  },
  {
   "cell_type": "code",
   "execution_count": 16,
   "metadata": {
    "collapsed": false
   },
   "outputs": [
    {
     "name": "stdout",
     "output_type": "stream",
     "text": [
      "Test Perpelexity : 157.29\n"
     ]
    }
   ],
   "source": [
    "total_loss = 0\n",
    "hidden = model.init_hidden(BATCH_SIZE // 2)\n",
    "for batch in getBatch(test_data, SEQ_LENGTH):\n",
    "    inputs, targets = batch\n",
    "\n",
    "    hidden = model.detach_hidden(hidden)\n",
    "    preds, hidden = model(inputs, hidden)\n",
    "    targets = targets.astype(mindspore.int32)\n",
    "    total_loss += inputs.shape[1] * loss_function(preds, targets.view(-1))\n",
    "\n",
    "total_loss = total_loss / test_data.shape[1]\n",
    "print(\"Test Perpelexity : %5.2f\" % (np.exp(total_loss)))"
   ]
  },
  {
   "attachments": {},
   "cell_type": "markdown",
   "metadata": {
    "collapsed": true
   },
   "source": [
    "## Further topics"
   ]
  },
  {
   "attachments": {},
   "cell_type": "markdown",
   "metadata": {},
   "source": [
    "* <a href=\"https://arxiv.org/pdf/1609.07843.pdf\">Pointer Sentinel Mixture Models</a>\n",
    "* <a href=\"https://arxiv.org/pdf/1708.02182\">Regularizing and Optimizing LSTM Language Models</a>"
   ]
  },
  {
   "cell_type": "code",
   "execution_count": null,
   "metadata": {
    "collapsed": true
   },
   "outputs": [],
   "source": []
  }
 ],
 "metadata": {
  "kernelspec": {
   "display_name": "Python 3",
   "language": "python",
   "name": "python3"
  },
  "language_info": {
   "codemirror_mode": {
    "name": "ipython",
    "version": 3
   },
   "file_extension": ".py",
   "mimetype": "text/x-python",
   "name": "python",
   "nbconvert_exporter": "python",
   "pygments_lexer": "ipython3",
   "version": "3.7.13"
  }
 },
 "nbformat": 4,
 "nbformat_minor": 2
}
